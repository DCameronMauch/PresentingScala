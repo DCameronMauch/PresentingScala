{
 "cells": [
  {
   "cell_type": "markdown",
   "metadata": {},
   "source": [
    "# Three kinds of Implicits and Type Classes in Scala"
   ]
  },
  {
   "cell_type": "markdown",
   "metadata": {},
   "source": [
    "blah blah blah"
   ]
  },
  {
   "cell_type": "markdown",
   "metadata": {},
   "source": [
    "### -- Implicit Parameters --"
   ]
  },
  {
   "cell_type": "markdown",
   "metadata": {},
   "source": [
    "Suppose you want a function that joins two strings together."
   ]
  },
  {
   "cell_type": "code",
   "execution_count": 1,
   "metadata": {},
   "outputs": [
    {
     "data": {
      "text/plain": [
       "defined \u001b[32mfunction\u001b[39m \u001b[36mexample1\u001b[39m\n",
       "\u001b[36mres0_1\u001b[39m: \u001b[32mString\u001b[39m = \u001b[32m\"foobar\"\u001b[39m"
      ]
     },
     "execution_count": 1,
     "metadata": {},
     "output_type": "execute_result"
    }
   ],
   "source": [
    "def example1(a: String, b: String): String = List(a, b).mkString(\"\")\n",
    "\n",
    "example1(\"foo\", \"bar\")"
   ]
  },
  {
   "cell_type": "markdown",
   "metadata": {},
   "source": [
    "You can split the parameters into a parameter list as such.  Each set of parameters is called a parameter group."
   ]
  },
  {
   "cell_type": "code",
   "execution_count": 2,
   "metadata": {},
   "outputs": [
    {
     "data": {
      "text/plain": [
       "defined \u001b[32mfunction\u001b[39m \u001b[36mexample2\u001b[39m\n",
       "\u001b[36mres1_1\u001b[39m: \u001b[32mString\u001b[39m = \u001b[32m\"foobar\"\u001b[39m"
      ]
     },
     "execution_count": 2,
     "metadata": {},
     "output_type": "execute_result"
    }
   ],
   "source": [
    "def example2(a: String)(b: String): String = List(a, b).mkString(\"\")\n",
    "\n",
    "example2(\"foo\")(\"bar\")"
   ]
  },
  {
   "cell_type": "markdown",
   "metadata": {},
   "source": [
    "You can create a partially applied function (aka lambda) by passing only the first argument.  Then call that with the second argument."
   ]
  },
  {
   "cell_type": "code",
   "execution_count": 3,
   "metadata": {},
   "outputs": [
    {
     "data": {
      "text/plain": [
       "\u001b[36mpartial\u001b[39m: \u001b[32mString\u001b[39m => \u001b[32mString\u001b[39m = ammonite.$sess.cmd2$Helper$$Lambda$2368/1130569246@2d9be5e5\n",
       "\u001b[36mres2_1\u001b[39m: \u001b[32mString\u001b[39m = \u001b[32m\"foobar\"\u001b[39m"
      ]
     },
     "execution_count": 3,
     "metadata": {},
     "output_type": "execute_result"
    }
   ],
   "source": [
    "val partial = example2(\"foo\")(_)\n",
    "partial(\"bar\")"
   ]
  },
  {
   "cell_type": "markdown",
   "metadata": {},
   "source": [
    "You can mark a parameter group within the parameter list as implicit.  This applies to all the parameters within that group.  When calling this function, all the non-implicit parameters must be supplied with arguments, as usual.  The implicit parameters can be supplied with arguments, if you want, but it is no longer required.  Instead, it will search for a variable, marked itself as implicit, that is in scope and of the matching type, for each of the parameters in the group.  If there are zero or more than one implicit variables in scope of the matching type, the code will not compile."
   ]
  },
  {
   "cell_type": "code",
   "execution_count": 4,
   "metadata": {},
   "outputs": [
    {
     "data": {
      "text/plain": [
       "defined \u001b[32mfunction\u001b[39m \u001b[36mexample3\u001b[39m\n",
       "\u001b[36mbar\u001b[39m: \u001b[32mString\u001b[39m = \u001b[32m\"bar\"\u001b[39m\n",
       "\u001b[36mres3_2\u001b[39m: \u001b[32mString\u001b[39m = \u001b[32m\"foobar\"\u001b[39m\n",
       "\u001b[36mres3_3\u001b[39m: \u001b[32mString\u001b[39m = \u001b[32m\"foobaz\"\u001b[39m"
      ]
     },
     "execution_count": 4,
     "metadata": {},
     "output_type": "execute_result"
    }
   ],
   "source": [
    "def example3(a: String)(implicit b: String): String = List(a, b).mkString(\"\")\n",
    "\n",
    "implicit val bar: String = \"bar\"\n",
    "\n",
    "example3(\"foo\")\n",
    "example3(\"foo\")(\"baz\")"
   ]
  },
  {
   "cell_type": "markdown",
   "metadata": {},
   "source": [
    "blah blah blah"
   ]
  },
  {
   "cell_type": "markdown",
   "metadata": {},
   "source": [
    "### -- Implicit Type Conversion --"
   ]
  },
  {
   "cell_type": "markdown",
   "metadata": {},
   "source": [
    "blah blah blah"
   ]
  },
  {
   "cell_type": "code",
   "execution_count": 5,
   "metadata": {},
   "outputs": [
    {
     "data": {
      "text/plain": [
       "defined \u001b[32mobject\u001b[39m \u001b[36mExample4\u001b[39m\n",
       "defined \u001b[32mclass\u001b[39m \u001b[36mExample4\u001b[39m\n",
       "defined \u001b[32mobject\u001b[39m \u001b[36mExample5\u001b[39m\n",
       "defined \u001b[32mclass\u001b[39m \u001b[36mExample5\u001b[39m\n",
       "\u001b[36ma\u001b[39m: \u001b[32mExample4\u001b[39m = \u001b[33mExample4\u001b[39m(\u001b[32m\"Bob\"\u001b[39m, \u001b[32m\"Smith\"\u001b[39m)\n",
       "\u001b[36mb\u001b[39m: \u001b[32mExample5\u001b[39m = \u001b[33mExample5\u001b[39m(\u001b[32m\"Bob Smith\"\u001b[39m)\n",
       "\u001b[36mc\u001b[39m: \u001b[32mExample4\u001b[39m = \u001b[33mExample4\u001b[39m(\u001b[32m\"Bob\"\u001b[39m, \u001b[32m\"Smith\"\u001b[39m)"
      ]
     },
     "execution_count": 5,
     "metadata": {},
     "output_type": "execute_result"
    }
   ],
   "source": [
    "object Example4 {\n",
    "  implicit def convert(x: Example5): Example4 = {\n",
    "    val Array(firstName, lastName) = x.fullName.split(\" \")\n",
    "    Example4(firstName, lastName)\n",
    "  }\n",
    "}\n",
    "\n",
    "case class Example4(firstName: String, lastName: String)\n",
    "\n",
    "object Example5 {\n",
    "  implicit def convert(x: Example4): Example5 = {\n",
    "    val fullName = List(x.firstName, x.lastName).mkString(\" \")\n",
    "    Example5(fullName)\n",
    "  }\n",
    "}\n",
    "\n",
    "case class Example5(fullName: String)\n",
    "\n",
    "val a: Example4 = Example4(\"Bob\", \"Smith\")\n",
    "val b: Example5 = a\n",
    "val c: Example4 = b"
   ]
  },
  {
   "cell_type": "markdown",
   "metadata": {},
   "source": [
    "Scala has an objected called `Predef`, that is automatically imported into every file.  There are all kinds of interesting things in there.  And it includes several implicit type conversions.  For example, anywhere a `Double` is required, you can provide an `Int`, which will get automatically converted to the right type.  This makes sense, because `Int` to `Double` does not loose any detail.  But detail would be lost going the opposite direction, which is why that will not compile.  You would have to explicitly make the conversion in whatever manner makes sense for your applicaiton."
   ]
  },
  {
   "cell_type": "code",
   "execution_count": 6,
   "metadata": {},
   "outputs": [
    {
     "data": {
      "text/plain": [
       "\u001b[36md\u001b[39m: \u001b[32mInt\u001b[39m = \u001b[32m123\u001b[39m\n",
       "\u001b[36me\u001b[39m: \u001b[32mDouble\u001b[39m = \u001b[32m123.0\u001b[39m"
      ]
     },
     "execution_count": 6,
     "metadata": {},
     "output_type": "execute_result"
    }
   ],
   "source": [
    "val d: Int = 123\n",
    "val e: Double = d"
   ]
  },
  {
   "cell_type": "markdown",
   "metadata": {},
   "source": [
    "### -- Implicit Methods --"
   ]
  },
  {
   "cell_type": "markdown",
   "metadata": {},
   "source": [
    "Consider calling the method `distinct` on a `String`."
   ]
  },
  {
   "cell_type": "code",
   "execution_count": 7,
   "metadata": {},
   "outputs": [
    {
     "data": {
      "text/plain": [
       "\u001b[36mres6\u001b[39m: \u001b[32mString\u001b[39m = \u001b[32m\"abc\"\u001b[39m"
      ]
     },
     "execution_count": 7,
     "metadata": {},
     "output_type": "execute_result"
    }
   ],
   "source": [
    "\"aaabbbccc\".distinct"
   ]
  },
  {
   "cell_type": "markdown",
   "metadata": {},
   "source": [
    "In Scala, the `String` type is an alias for the Java `String`.  And the `String` class in Java does not have a `distinct` method as a member.  So what is going on here?  Where did this method come from?  It came from the `StringOps` class in Scala."
   ]
  },
  {
   "cell_type": "markdown",
   "metadata": {},
   "source": [
    "If you have a variable of type A and try to call a method that is not a member of the class, it will try to find a single implicit function within scope that converts the variable from type A to any type B which does have the method as a member.  If there are zero or more than one type conversion functions within scope which meet this criteria, the code will not compile. "
   ]
  },
  {
   "cell_type": "markdown",
   "metadata": {},
   "source": [
    "Within the `Predef` object, there is an implicit function called `augmentString`, which converts a `String` to a `StringOps`.  Thus the `String` is automatically converted into a `StringOps` because it has the `distinct` method as a member."
   ]
  },
  {
   "cell_type": "code",
   "execution_count": 8,
   "metadata": {},
   "outputs": [
    {
     "data": {
      "text/plain": [
       "defined \u001b[32mclass\u001b[39m \u001b[36mMyStringOps\u001b[39m\n",
       "defined \u001b[32mfunction\u001b[39m \u001b[36mconvert1\u001b[39m\n",
       "\u001b[36mres7_2\u001b[39m: \u001b[32mString\u001b[39m = \u001b[32m\"hellohellohello\"\u001b[39m"
      ]
     },
     "execution_count": 8,
     "metadata": {},
     "output_type": "execute_result"
    }
   ],
   "source": [
    "case class MyStringOps(string: String) {\n",
    "  def multiply1(x: Int): String = (1 to x).map(_ => string).mkString(\"\")\n",
    "}\n",
    "\n",
    "implicit def convert1(string: String): MyStringOps = MyStringOps(string)\n",
    "\n",
    "\"hello\".multiply1(3)"
   ]
  },
  {
   "cell_type": "markdown",
   "metadata": {},
   "source": [
    "This kind of implicit and it's behavior is the required basis for type classes described next."
   ]
  },
  {
   "cell_type": "markdown",
   "metadata": {},
   "source": [
    "### -- Type Classes --"
   ]
  },
  {
   "cell_type": "markdown",
   "metadata": {},
   "source": [
    "Type classes are an ad-hoc method of adding behaviors to a set of classes.  The concept came from __[Haskell](http://learnyouahaskell.com/types-and-typeclasses#typeclasses-101)__.  The first step is to create a `trait` which defines the methods and type signatures for the desired behaviors.  Type classes are also the foundation for functional programming libraries such as __[Cats](https://typelevel.org/cats/)__ and __[Scalaz](https://scalaz.github.io/)__."
   ]
  },
  {
   "cell_type": "code",
   "execution_count": 9,
   "metadata": {},
   "outputs": [
    {
     "data": {
      "text/plain": [
       "defined \u001b[32mtrait\u001b[39m \u001b[36mMyTypeClass\u001b[39m"
      ]
     },
     "execution_count": 9,
     "metadata": {},
     "output_type": "execute_result"
    }
   ],
   "source": [
    "trait MyTypeClass[A] {\n",
    "  def multiply2(x: Int): A\n",
    "}"
   ]
  },
  {
   "cell_type": "markdown",
   "metadata": {},
   "source": [
    "The next step is to create implicit type conversion functions from each of the classes you want to have this set of behaviors to an annonymous implementation of the trait."
   ]
  },
  {
   "cell_type": "code",
   "execution_count": 10,
   "metadata": {},
   "outputs": [
    {
     "data": {
      "text/plain": [
       "defined \u001b[32mfunction\u001b[39m \u001b[36mconvert2\u001b[39m\n",
       "defined \u001b[32mfunction\u001b[39m \u001b[36mconvert3\u001b[39m"
      ]
     },
     "execution_count": 10,
     "metadata": {},
     "output_type": "execute_result"
    }
   ],
   "source": [
    "implicit def convert2(string: String) = new MyTypeClass[String] {\n",
    "  def multiply2(x: Int): String = (1 to x).map(_ => string).mkString(\"\")\n",
    "}\n",
    "\n",
    "implicit def convert3(int: Int) = new MyTypeClass[Int] {\n",
    "  def multiply2(x: Int): Int = (1 to x).map(_ => int.toString).mkString(\"\").toInt\n",
    "}"
   ]
  },
  {
   "cell_type": "markdown",
   "metadata": {},
   "source": [
    "Then you can simply call any of the trait's methods on any of the classes belonging to the type class."
   ]
  },
  {
   "cell_type": "code",
   "execution_count": 11,
   "metadata": {},
   "outputs": [
    {
     "data": {
      "text/plain": [
       "\u001b[36mres10_0\u001b[39m: \u001b[32mString\u001b[39m = \u001b[32m\"hellohellohello\"\u001b[39m\n",
       "\u001b[36mres10_1\u001b[39m: \u001b[32mInt\u001b[39m = \u001b[32m123123123\u001b[39m"
      ]
     },
     "execution_count": 11,
     "metadata": {},
     "output_type": "execute_result"
    }
   ],
   "source": [
    "\"hello\".multiply2(3)\n",
    "123.multiply2(3)"
   ]
  }
 ],
 "metadata": {
  "kernelspec": {
   "display_name": "Scala",
   "language": "scala",
   "name": "scala"
  },
  "language_info": {
   "codemirror_mode": "text/x-scala",
   "file_extension": ".scala",
   "mimetype": "text/x-scala",
   "name": "scala",
   "nbconvert_exporter": "script",
   "version": "2.12.8"
  }
 },
 "nbformat": 4,
 "nbformat_minor": 2
}
