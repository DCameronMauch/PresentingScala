{
 "cells": [
  {
   "cell_type": "markdown",
   "metadata": {},
   "source": [
    "# Three kinds of Implicits and Type Classes"
   ]
  },
  {
   "cell_type": "markdown",
   "metadata": {},
   "source": [
    "blah blah blah"
   ]
  },
  {
   "cell_type": "markdown",
   "metadata": {},
   "source": [
    "### -- Implicit Arguments --"
   ]
  },
  {
   "cell_type": "markdown",
   "metadata": {},
   "source": [
    "Suppose you want a function that joins two strings together."
   ]
  },
  {
   "cell_type": "code",
   "execution_count": 1,
   "metadata": {},
   "outputs": [
    {
     "data": {
      "text/plain": [
       "defined \u001b[32mfunction\u001b[39m \u001b[36mexample1\u001b[39m\n",
       "\u001b[36mres0_1\u001b[39m: \u001b[32mString\u001b[39m = \u001b[32m\"foobar\"\u001b[39m"
      ]
     },
     "execution_count": 1,
     "metadata": {},
     "output_type": "execute_result"
    }
   ],
   "source": [
    "def example1(a: String, b: String): String = List(a, b).mkString(\"\")\n",
    "\n",
    "example1(\"foo\", \"bar\")"
   ]
  },
  {
   "cell_type": "markdown",
   "metadata": {},
   "source": [
    "You can split the arguments into a parameter list as such."
   ]
  },
  {
   "cell_type": "code",
   "execution_count": 6,
   "metadata": {},
   "outputs": [
    {
     "data": {
      "text/plain": [
       "defined \u001b[32mfunction\u001b[39m \u001b[36mexample2\u001b[39m\n",
       "\u001b[36mres5_1\u001b[39m: \u001b[32mString\u001b[39m = \u001b[32m\"foobar\"\u001b[39m\n",
       "\u001b[36mres5_2\u001b[39m: \u001b[32mString\u001b[39m = \u001b[32m\"foobar\"\u001b[39m"
      ]
     },
     "execution_count": 6,
     "metadata": {},
     "output_type": "execute_result"
    }
   ],
   "source": [
    "def example2(a: String)(b: String): String = List(a, b).mkString(\"\")\n",
    "\n",
    "example2(\"foo\")(\"bar\")"
   ]
  },
  {
   "cell_type": "markdown",
   "metadata": {},
   "source": [
    "blah blah blah"
   ]
  },
  {
   "cell_type": "code",
   "execution_count": 7,
   "metadata": {},
   "outputs": [
    {
     "data": {
      "text/plain": [
       "\u001b[36mpartial\u001b[39m: \u001b[32mString\u001b[39m => \u001b[32mString\u001b[39m = ammonite.$sess.cmd6$Helper$$Lambda$2702/227216095@624a9ccd\n",
       "\u001b[36mres6_1\u001b[39m: \u001b[32mString\u001b[39m = \u001b[32m\"foobar\"\u001b[39m"
      ]
     },
     "execution_count": 7,
     "metadata": {},
     "output_type": "execute_result"
    }
   ],
   "source": [
    "val partial = example2(\"foo\")(_)\n",
    "partial(\"bar\")"
   ]
  },
  {
   "cell_type": "markdown",
   "metadata": {},
   "source": [
    "blah blah blah"
   ]
  },
  {
   "cell_type": "code",
   "execution_count": 3,
   "metadata": {},
   "outputs": [
    {
     "data": {
      "text/plain": [
       "defined \u001b[32mfunction\u001b[39m \u001b[36mexample3\u001b[39m\n",
       "\u001b[36mbar\u001b[39m: \u001b[32mString\u001b[39m = \u001b[32m\"bar\"\u001b[39m\n",
       "\u001b[36mres2_2\u001b[39m: \u001b[32mString\u001b[39m = \u001b[32m\"foobar\"\u001b[39m"
      ]
     },
     "execution_count": 3,
     "metadata": {},
     "output_type": "execute_result"
    }
   ],
   "source": [
    "def example3(a: String)(implicit b: String): String = List(a, b).mkString(\"\")\n",
    "\n",
    "implicit val bar: String = \"bar\"\n",
    "\n",
    "example3(\"foo\")"
   ]
  },
  {
   "cell_type": "markdown",
   "metadata": {},
   "source": [
    "blah blah blah"
   ]
  },
  {
   "cell_type": "markdown",
   "metadata": {},
   "source": [
    "### -- Implicit Type Conversion --"
   ]
  },
  {
   "cell_type": "code",
   "execution_count": 5,
   "metadata": {},
   "outputs": [
    {
     "data": {
      "text/plain": [
       "defined \u001b[32mobject\u001b[39m \u001b[36mExample4\u001b[39m\n",
       "defined \u001b[32mclass\u001b[39m \u001b[36mExample4\u001b[39m\n",
       "defined \u001b[32mobject\u001b[39m \u001b[36mExample5\u001b[39m\n",
       "defined \u001b[32mclass\u001b[39m \u001b[36mExample5\u001b[39m\n",
       "\u001b[36ma\u001b[39m: \u001b[32mExample4\u001b[39m = \u001b[33mExample4\u001b[39m(\u001b[32m\"Bob\"\u001b[39m, \u001b[32m\"Smith\"\u001b[39m)\n",
       "\u001b[36mb\u001b[39m: \u001b[32mExample5\u001b[39m = \u001b[33mExample5\u001b[39m(\u001b[32m\"Bob Smith\"\u001b[39m)\n",
       "\u001b[36mc\u001b[39m: \u001b[32mExample4\u001b[39m = \u001b[33mExample4\u001b[39m(\u001b[32m\"Bob\"\u001b[39m, \u001b[32m\"Smith\"\u001b[39m)"
      ]
     },
     "execution_count": 5,
     "metadata": {},
     "output_type": "execute_result"
    }
   ],
   "source": [
    "object Example4 {\n",
    "  implicit def convert(x: Example5): Example4 = {\n",
    "    val Array(firstName, lastName) = x.fullName.split(\" \")\n",
    "    Example4(firstName, lastName)\n",
    "  }\n",
    "}\n",
    "\n",
    "case class Example4(firstName: String, lastName: String)\n",
    "\n",
    "object Example5 {\n",
    "  implicit def convert(x: Example4): Example5 = {\n",
    "    val fullName = List(x.firstName, x.lastName).mkString(\" \")\n",
    "    Example5(fullName)\n",
    "  }\n",
    "}\n",
    "\n",
    "case class Example5(fullName: String)\n",
    "\n",
    "val a: Example4 = Example4(\"Bob\", \"Smith\")\n",
    "val b: Example5 = a\n",
    "val c: Example4 = b"
   ]
  },
  {
   "cell_type": "markdown",
   "metadata": {},
   "source": [
    "### -- Implicit Method --"
   ]
  },
  {
   "cell_type": "markdown",
   "metadata": {},
   "source": [
    "blah blah blah"
   ]
  }
 ],
 "metadata": {
  "kernelspec": {
   "display_name": "Scala",
   "language": "scala",
   "name": "scala"
  },
  "language_info": {
   "codemirror_mode": "text/x-scala",
   "file_extension": ".scala",
   "mimetype": "text/x-scala",
   "name": "scala",
   "nbconvert_exporter": "script",
   "version": "2.12.8"
  }
 },
 "nbformat": 4,
 "nbformat_minor": 2
}
