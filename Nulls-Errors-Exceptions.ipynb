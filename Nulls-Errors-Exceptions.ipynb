{
 "cells": [
  {
   "cell_type": "markdown",
   "metadata": {},
   "source": [
    "# Nulls, Errors, and Exceptions - The Scala Way"
   ]
  },
  {
   "cell_type": "markdown",
   "metadata": {},
   "source": [
    "Blah blah blah"
   ]
  },
  {
   "cell_type": "markdown",
   "metadata": {},
   "source": [
    "### --- Nulls ---"
   ]
  },
  {
   "cell_type": "markdown",
   "metadata": {},
   "source": [
    "If you have any function, can you tell from it's type signature if it might return a null?  Do you need to write code and tests to check for nulls?  In Scala, we try to avoid nulls completely.  We have an alternative, the __[Option](https://www.scala-lang.org/api/2.12.8/scala/Option.html)__ class (side note - Java 8 borrowed this concept to create it's `Optional` class).  Of the three classes we will be discussing, this one is the simplest.  It has a type signature that takes one parameter and looks like `Option[A]`.  A null is represented by a `None[A]`, which holds zero elements of type A.  And a non-null value is represented by a `Some[A]`, which holds one element of type A, namely the value."
   ]
  },
  {
   "cell_type": "code",
   "execution_count": null,
   "metadata": {},
   "outputs": [],
   "source": [
    "val option1: Option[String] = None\n",
    "val option2: Option[String] = Some(\"foobar\")"
   ]
  },
  {
   "cell_type": "markdown",
   "metadata": {},
   "source": [
    "An option can also be constructed by in the following way, based on a variable that may or may not be null.  This is useful for wrapping functions which are known to possibly return a null value."
   ]
  },
  {
   "cell_type": "code",
   "execution_count": null,
   "metadata": {},
   "outputs": [],
   "source": [
    "val optionVar1: String = null\n",
    "val optionVar2: String = \"foobar\"\n",
    "\n",
    "Option(optionVar1)\n",
    "Option(optionVar2)"
   ]
  },
  {
   "cell_type": "markdown",
   "metadata": {},
   "source": [
    "something about transformation"
   ]
  },
  {
   "cell_type": "code",
   "execution_count": null,
   "metadata": {},
   "outputs": [],
   "source": [
    "option1.map(_.size)\n",
    "option2.map(_.size)"
   ]
  },
  {
   "cell_type": "markdown",
   "metadata": {},
   "source": [
    "something about composition"
   ]
  },
  {
   "cell_type": "code",
   "execution_count": null,
   "metadata": {},
   "outputs": [],
   "source": [
    "def optionFunction1Pass(x: String): Option[Int] = Some(x.size)\n",
    "def optionFunction2Pass(x: Int): Option[Int] = Some(x * 3)\n",
    "def optionFunction3Pass(x: Int): Option[Double] = Some(x.toDouble)\n",
    "def optionFunction4Pass(x: Double): Option[String] = Some(x.toString)\n",
    "\n",
    "option2\n",
    "  .flatMap(optionFunction1Pass)\n",
    "  .flatMap(optionFunction2Pass)\n",
    "  .flatMap(optionFunction3Pass)\n",
    "  .flatMap(optionFunction4Pass)"
   ]
  },
  {
   "cell_type": "markdown",
   "metadata": {},
   "source": [
    "blah blah blah"
   ]
  },
  {
   "cell_type": "code",
   "execution_count": null,
   "metadata": {},
   "outputs": [],
   "source": [
    "def optionFunction3Fail(x: Int): Option[Double] = None\n",
    "\n",
    "option2\n",
    "  .flatMap(optionFunction1Pass)\n",
    "  .flatMap(optionFunction2Pass)\n",
    "  .flatMap(optionFunction3Fail)\n",
    "  .flatMap(optionFunction4Pass)"
   ]
  },
  {
   "cell_type": "markdown",
   "metadata": {},
   "source": [
    "### --- Errors ---"
   ]
  },
  {
   "cell_type": "markdown",
   "metadata": {},
   "source": [
    "In Scala, we usually deal with a method that can return a value or some kind of error using the __[Either](https://www.scala-lang.org/api/2.12.8/scala/util/Either.html)__ monad.  It has a type signature that takes two parameters and looks like `Either[A,B]`.  It is implemented by either a `Left[A]` for the unhappy path, or a `Right[B]` for the happy path."
   ]
  },
  {
   "cell_type": "code",
   "execution_count": null,
   "metadata": {},
   "outputs": [],
   "source": [
    "case class Error(message: String)\n",
    "\n",
    "val either1: Either[Error, Int] = Left(Error(\"error\"))\n",
    "val either2: Either[Error, Int] = Right(123)"
   ]
  },
  {
   "cell_type": "markdown",
   "metadata": {},
   "source": [
    "Either is right biased, meaning operators like `map` and `flatMap` only operate on a Right.  For example, the type signature for map is `map[C](B => C): Either[A,C]`.  Only the value within a Right will be operated on.  The value within a Left will be unchanged.  Either way, the type signature of the Either has changed."
   ]
  },
  {
   "cell_type": "code",
   "execution_count": null,
   "metadata": {},
   "outputs": [],
   "source": [
    "either1.map(_.toDouble)\n",
    "either2.map(_.toDouble)"
   ]
  },
  {
   "cell_type": "markdown",
   "metadata": {},
   "source": [
    "\n",
    "The compositional beauty comes in when you have a series of functions, each of which can produce an error.  You want to stop on the first error.  Normally this would look like a bunch of nested `if` statements.  With Either, you can call the first function, then flatMap with the second, flatMap with the third, etc.  If any function returns a Left, any flatMaps after will have no impact.  If there are no Lefts, then the final output will be a Right.\n",
    "\n",
    "`val foo: Either[Error, Int] = function1(123).flatMap(function2).flatMap(function3)`"
   ]
  },
  {
   "cell_type": "code",
   "execution_count": null,
   "metadata": {},
   "outputs": [],
   "source": [
    "def eitherFunc1Pass(x: Int): Either[Error, Int] = Right(x + 321)\n",
    "def eitherFunc2Pass(x: Int): Either[Error, Int] = Right(x * 2)\n",
    "def eitherFunc3Pass(x: Int): Either[Error, Double] = Right(x.toDouble)\n",
    "def eitherFunc4Pass(x: Double): Either[Error, String] = Right(x.toString)\n",
    "\n",
    "either2\n",
    "  .flatMap(eitherFunc1Pass)\n",
    "  .flatMap(eitherFunc2Pass)\n",
    "  .flatMap(eitherFunc3Pass)\n",
    "  .flatMap(eitherFunc4Pass)"
   ]
  },
  {
   "cell_type": "code",
   "execution_count": null,
   "metadata": {},
   "outputs": [],
   "source": [
    "def eitherFunc3Fail(x: Int): Either[Error, Double] = Left(Error(\"function 3 failed\"))\n",
    "\n",
    "either2\n",
    "  .flatMap(eitherFunc1Pass)\n",
    "  .flatMap(eitherFunc2Pass)\n",
    "  .flatMap(eitherFunc3Fail)\n",
    "  .flatMap(eitherFunc4Pass)"
   ]
  },
  {
   "cell_type": "markdown",
   "metadata": {},
   "source": [
    "### --- Exceptions ---"
   ]
  },
  {
   "cell_type": "markdown",
   "metadata": {},
   "source": [
    "blah blah"
   ]
  }
 ],
 "metadata": {
  "kernelspec": {
   "display_name": "Scala",
   "language": "scala",
   "name": "scala"
  },
  "language_info": {
   "codemirror_mode": "text/x-scala",
   "file_extension": ".scala",
   "mimetype": "text/x-scala",
   "name": "scala",
   "nbconvert_exporter": "script",
   "version": "2.12.8"
  }
 },
 "nbformat": 4,
 "nbformat_minor": 2
}
