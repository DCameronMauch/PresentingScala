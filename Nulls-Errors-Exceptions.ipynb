{
 "cells": [
  {
   "cell_type": "markdown",
   "metadata": {},
   "source": [
    "# Nulls, Errors, and Exceptions - The Scala Way"
   ]
  },
  {
   "cell_type": "markdown",
   "metadata": {},
   "source": [
    "These three concepts are amongst the most difficult to deal with in Java.  They are the source of many bugs.  But Scala has some tools to help deal with them, increasing overall quality and reducing bugs related to them."
   ]
  },
  {
   "cell_type": "markdown",
   "metadata": {},
   "source": [
    "### --- Nulls ---"
   ]
  },
  {
   "cell_type": "markdown",
   "metadata": {},
   "source": [
    "If you have any function, can you tell from it's type signature if it might return a null?  Do you need to write code and tests to check for nulls?  They are probably the single biggest source of runtime exceptions, because developers do not realize a function might return a null or forget to check for it.  In Scala, we try to avoid nulls completely.  We have an alternative, the __[Option](https://www.scala-lang.org/api/2.12.8/scala/Option.html)__ class (side note - Java 8 borrowed this concept for it's `Optional` class).  Of the three classes we will be discussing, this one is the simplest.  It has a type signature that takes one parameter and looks like `Option[A]`.  A null is represented by a `None[A]`, which holds zero elements of type A.  Any non-null value is represented by a `Some[A]`, which holds one element of type A, namely the value."
   ]
  },
  {
   "cell_type": "code",
   "execution_count": null,
   "metadata": {},
   "outputs": [],
   "source": [
    "val option1: Option[String] = None\n",
    "val option2: Option[String] = Some(\"foobar\")"
   ]
  },
  {
   "cell_type": "markdown",
   "metadata": {},
   "source": [
    "An option can also be constructed by in the following way, based on a variable that may or may not be null.  This is useful for wrapping functions which are known to possibly return a null value."
   ]
  },
  {
   "cell_type": "code",
   "execution_count": null,
   "metadata": {},
   "outputs": [],
   "source": [
    "val optionVar1: String = null\n",
    "val optionVar2: String = \"foobar\"\n",
    "\n",
    "Option(optionVar1)\n",
    "Option(optionVar2)"
   ]
  },
  {
   "cell_type": "markdown",
   "metadata": {},
   "source": [
    "You can check to see if an `Option` is a `None` or a `Some` with the `isEmpty` method.  This is a more idiomatic way of doing it, versus a `match` and `case` statements."
   ]
  },
  {
   "cell_type": "code",
   "execution_count": null,
   "metadata": {},
   "outputs": [],
   "source": [
    "option1.isEmpty\n",
    "option2.isEmpty"
   ]
  },
  {
   "cell_type": "markdown",
   "metadata": {},
   "source": [
    "You can use the `get` method to extract the value from a `Some`, but will raise an exception for a `None`.  A better alternative is the `getOrElse` method, which extracts the value from a `Some`, and returns a specified default value for a `None`.  Note that the type of the argument must match the inner type of the `Option`."
   ]
  },
  {
   "cell_type": "code",
   "execution_count": null,
   "metadata": {},
   "outputs": [],
   "source": [
    "option1.getOrElse(\"unknown\")\n",
    "option2.getOrElse(\"unknown\")"
   ]
  },
  {
   "cell_type": "markdown",
   "metadata": {},
   "source": [
    "If you have one or more transformations that always return a value, you can chain together calls to the `map` method.  It takes a function with the type signature `A => B`.  Note that in the case of the `Null[A]`, the result is a `None[B]`.  The transformation is applied to any value held within the `Option`, which for a `Null` is empty."
   ]
  },
  {
   "cell_type": "code",
   "execution_count": null,
   "metadata": {},
   "outputs": [],
   "source": [
    "def valueFunction1(x: String): Int = x.size\n",
    "\n",
    "option1.map(valueFunction1)\n",
    "option2.map(valueFunction1)"
   ]
  },
  {
   "cell_type": "markdown",
   "metadata": {},
   "source": [
    "If you have one or more transformations that each return an Option, you can chain together calls to the `flatMap` method.  It takes a function with the type signature `A => Option[B]`.  The \"map\" part returns an `Option[Option[B]]`, and the \"flat\" part takes that and returns just a `Option[B]`.  It is identical as calling the `map` method followed by the `flatten` method."
   ]
  },
  {
   "cell_type": "code",
   "execution_count": null,
   "metadata": {},
   "outputs": [],
   "source": [
    "def optionFunction1Pass(x: String): Option[Int] = Some(x.size)\n",
    "def optionFunction2Pass(x: Int): Option[Int] = Some(x * 3)\n",
    "def optionFunction3Pass(x: Int): Option[Double] = Some(x.toDouble)\n",
    "def optionFunction4Pass(x: Double): Option[String] = Some(x.toString)\n",
    "\n",
    "option2\n",
    "  .flatMap(optionFunction1Pass)\n",
    "  .flatMap(optionFunction2Pass)\n",
    "  .flatMap(optionFunction3Pass)\n",
    "  .flatMap(optionFunction4Pass)"
   ]
  },
  {
   "cell_type": "markdown",
   "metadata": {},
   "source": [
    "If at any point a transformation returns a `None`, all the subsequent `flatMap` calls will also return a `None`, but the type will change with each transformation."
   ]
  },
  {
   "cell_type": "code",
   "execution_count": null,
   "metadata": {},
   "outputs": [],
   "source": [
    "def optionFunction3Fail(x: Int): Option[Double] = None\n",
    "\n",
    "option2\n",
    "  .flatMap(optionFunction1Pass)\n",
    "  .flatMap(optionFunction2Pass)\n",
    "  .flatMap(optionFunction3Fail)\n",
    "  .flatMap(optionFunction4Pass)"
   ]
  },
  {
   "cell_type": "markdown",
   "metadata": {},
   "source": [
    "This is the power of functional programming - composition.  But here we are composing together functions which may (only conceptually now) return nulls.  Without `Option`, for N transformations, you would have to write an N-level deep nested `if` structure, checking for nulls at each level.  This is not readable or easily maintained code."
   ]
  },
  {
   "cell_type": "markdown",
   "metadata": {},
   "source": [
    "Of course, `map` and `flatMap` can be mixed together in a sequence of calls where some transformations return a value and some return an `Option`."
   ]
  },
  {
   "cell_type": "markdown",
   "metadata": {},
   "source": [
    "There are a number of other useful methods on `Option`, like `contains`, `exists`, `filter`, etc.  Please refer to the documentation linked above.  It can also be converted to an `Either`, as a `Left` or `Right` - discussed further below."
   ]
  },
  {
   "cell_type": "code",
   "execution_count": null,
   "metadata": {},
   "outputs": [],
   "source": [
    "option1.contains(\"blah\")\n",
    "option2.contains(\"blah\")\n",
    "option2.contains(\"foobar\")"
   ]
  },
  {
   "cell_type": "code",
   "execution_count": null,
   "metadata": {},
   "outputs": [],
   "source": [
    "option1.exists(_.size == 5)\n",
    "option2.exists(_.size == 5)\n",
    "option2.exists(_.size == 6)"
   ]
  },
  {
   "cell_type": "code",
   "execution_count": null,
   "metadata": {},
   "outputs": [],
   "source": [
    "option1.filter(_ == \"blah\")\n",
    "option2.filter(_ == \"blah\")\n",
    "option2.filter(_ == \"foobar\")"
   ]
  },
  {
   "cell_type": "code",
   "execution_count": null,
   "metadata": {},
   "outputs": [],
   "source": [
    "case class Thing(id: Int)\n",
    "\n",
    "option1.toLeft(Thing(1))\n",
    "option2.toLeft(Thing(2))\n",
    "\n",
    "option1.toRight(Thing(1))\n",
    "option2.toRight(Thing(2))"
   ]
  },
  {
   "cell_type": "markdown",
   "metadata": {},
   "source": [
    "### --- Errors ---"
   ]
  },
  {
   "cell_type": "markdown",
   "metadata": {},
   "source": [
    "In Scala, we usually deal with a method that can return a value or some kind of error using the __[Either](https://www.scala-lang.org/api/2.12.8/scala/util/Either.html)__ class.  It has a type signature that takes two parameters and looks like `Either[A, B]`.  A failure is represented by a `Left[A]`. A Success is represented by a `Right[B]`."
   ]
  },
  {
   "cell_type": "code",
   "execution_count": null,
   "metadata": {},
   "outputs": [],
   "source": [
    "case class Error(message: String)\n",
    "\n",
    "val either1: Either[Error, Int] = Left(Error(\"error\"))\n",
    "val either2: Either[Error, Int] = Right(123)"
   ]
  },
  {
   "cell_type": "markdown",
   "metadata": {},
   "source": [
    "Either is right biased, meaning operators like `map` and `flatMap` only operate on a Right.  For example, the type signature for map is `map[C](B => C): Either[A,C]`.  Only the value within a `Right` will be operated on.  The value within a `Left` will be unchanged.  Either way, the type signature of the `Either` will changed."
   ]
  },
  {
   "cell_type": "code",
   "execution_count": null,
   "metadata": {},
   "outputs": [],
   "source": [
    "either1.map(_.toDouble)\n",
    "either2.map(_.toDouble)"
   ]
  },
  {
   "cell_type": "markdown",
   "metadata": {},
   "source": [
    "blah blah"
   ]
  },
  {
   "cell_type": "code",
   "execution_count": null,
   "metadata": {},
   "outputs": [],
   "source": [
    "def eitherFunc1Pass(x: Int): Either[Error, Int] = Right(x + 321)\n",
    "def eitherFunc2Pass(x: Int): Either[Error, Int] = Right(x * 2)\n",
    "def eitherFunc3Pass(x: Int): Either[Error, Double] = Right(x.toDouble)\n",
    "def eitherFunc4Pass(x: Double): Either[Error, String] = Right(x.toString)\n",
    "\n",
    "either2\n",
    "  .flatMap(eitherFunc1Pass)\n",
    "  .flatMap(eitherFunc2Pass)\n",
    "  .flatMap(eitherFunc3Pass)\n",
    "  .flatMap(eitherFunc4Pass)"
   ]
  },
  {
   "cell_type": "code",
   "execution_count": null,
   "metadata": {},
   "outputs": [],
   "source": [
    "def eitherFunc3Fail(x: Int): Either[Error, Double] = Left(Error(\"function 3 failed\"))\n",
    "\n",
    "either2\n",
    "  .flatMap(eitherFunc1Pass)\n",
    "  .flatMap(eitherFunc2Pass)\n",
    "  .flatMap(eitherFunc3Fail)\n",
    "  .flatMap(eitherFunc4Pass)"
   ]
  },
  {
   "cell_type": "markdown",
   "metadata": {},
   "source": [
    "### --- Exceptions ---"
   ]
  },
  {
   "cell_type": "markdown",
   "metadata": {},
   "source": [
    "For the situation where a function might throw an exception, we have the `Try` class, which operates very similarly to the `Either` class.  It takes a single type parameter and has the type signature of `Try[A]`. failure is represented by a `Failure[A]`, which actually holds an exception of type `Throwable`.  A success is represented by a `Success[A]` and holds the returned value."
   ]
  },
  {
   "cell_type": "code",
   "execution_count": null,
   "metadata": {},
   "outputs": [],
   "source": [
    "import scala.util.Try\n",
    "\n",
    "val try1 = Try(3 / 0)\n",
    "val try2 = Try(3 / 1)"
   ]
  }
 ],
 "metadata": {
  "kernelspec": {
   "display_name": "Scala",
   "language": "scala",
   "name": "scala"
  },
  "language_info": {
   "codemirror_mode": "text/x-scala",
   "file_extension": ".scala",
   "mimetype": "text/x-scala",
   "name": "scala",
   "nbconvert_exporter": "script",
   "version": "2.12.8"
  }
 },
 "nbformat": 4,
 "nbformat_minor": 2
}
