{
 "cells": [
  {
   "cell_type": "markdown",
   "metadata": {},
   "source": [
    "# Three kinds of Implicits and Type Classes in Scala"
   ]
  },
  {
   "cell_type": "markdown",
   "metadata": {},
   "source": [
    "Implicit parameters are useful in a number of situations and can remove a lot of repetitive code.  But they can be over used as well, leading to magical and hard to understand code.  The Scala standard library makes quite a bit of use of these."
   ]
  },
  {
   "cell_type": "markdown",
   "metadata": {},
   "source": [
    "### ➤ * Implicit Parameters *"
   ]
  },
  {
   "cell_type": "markdown",
   "metadata": {},
   "source": [
    "Suppose you want a function that joins two strings together."
   ]
  },
  {
   "cell_type": "code",
   "execution_count": null,
   "metadata": {},
   "outputs": [],
   "source": [
    "def ipExample1(a: String, b: String): String = \n",
    "    List(a, b).mkString(\"\")\n",
    "\n",
    "ipExample1(\"foo\", \"bar\")"
   ]
  },
  {
   "cell_type": "markdown",
   "metadata": {},
   "source": [
    "You can split the parameters into a parameter listas such.  Each list of parameters is called a parameter group."
   ]
  },
  {
   "cell_type": "code",
   "execution_count": null,
   "metadata": {},
   "outputs": [],
   "source": [
    "def ipExample2(a: String)(b: String): String = \n",
    "    List(a, b).mkString(\"\")\n",
    "\n",
    "ipExample2(\"foo\")(\"bar\")"
   ]
  },
  {
   "cell_type": "markdown",
   "metadata": {},
   "source": [
    "You can create a partially applied function (aka lambda) by passing only the first argument.  Then call that with the second argument.  In functional programming, this is called currying."
   ]
  },
  {
   "cell_type": "code",
   "execution_count": null,
   "metadata": {},
   "outputs": [],
   "source": [
    "val ipPartial = ipExample2(\"foo\")(_)\n",
    "ipPartial(\"bar\")"
   ]
  },
  {
   "cell_type": "markdown",
   "metadata": {},
   "source": [
    "You can mark a parameter group within the parameter list as implicit.  This applies to all the parameters within that group.  When calling this function, all the non-implicit parameters must be supplied with arguments, as usual.  The implicit parameters can be supplied with arguments, if you want, but it is no longer required.  Instead, it will search for a variable, marked itself as implicit, that is in scope and of the matching type, for each of the parameters in the group.  If there are zero or more than one implicit variables in scope of the matching type, the code will not compile."
   ]
  },
  {
   "cell_type": "code",
   "execution_count": null,
   "metadata": {},
   "outputs": [],
   "source": [
    "def ipExample3(a: String)(implicit b: String): String = \n",
    "    List(a, b).mkString(\"\")\n",
    "\n",
    "implicit val bar: String = \"bar\"\n",
    "\n",
    "ipExample3(\"foo\")\n",
    "ipExample3(\"foo\")(\"zzz\")"
   ]
  },
  {
   "cell_type": "markdown",
   "metadata": {},
   "source": [
    "Implicit objects can also be used for implicit parameters.  In general, objects can be used much like values in Scala.  This is useful when you want to be able to specify a group of behaviors to be used by the function.  One example of this usage is JSON4s.  Most functions ........"
   ]
  },
  {
   "cell_type": "code",
   "execution_count": null,
   "metadata": {},
   "outputs": [],
   "source": [
    "trait IPFormatter {\n",
    "    def format(string: String): String\n",
    "}\n",
    "\n",
    "implicit object IPFormatter1 extends IPFormatter {\n",
    "    def format(string: String): String = \n",
    "        \"--- %s ---\".format(string)\n",
    "}\n",
    "\n",
    "object IPFormatter2 extends IPFormatter {\n",
    "    def format(string: String): String = \n",
    "        \"+++ %s +++\".format(string)\n",
    "}"
   ]
  },
  {
   "cell_type": "code",
   "execution_count": null,
   "metadata": {},
   "outputs": [],
   "source": [
    "def ipExample4(string: String)(implicit formatter: IPFormatter): String =\n",
    "  formatter.format(string)\n",
    "\n",
    "ipExample4(\"foobar\")\n",
    "ipExample4(\"foobar\")(IPFormatter2)"
   ]
  },
  {
   "cell_type": "markdown",
   "metadata": {},
   "source": [
    "This is useful when you want to be able to specify a group of behaviors to be used by the function. One example of this usage is JSON4s. Most functions in this library have an implicit parameter group that takes a single argument of type `Format`.  You can use the defaults by using an import.  Or you can specify your own."
   ]
  },
  {
   "cell_type": "markdown",
   "metadata": {},
   "source": [
    "Another example might be something like logging.  You can define a logging service in your `main` as implicit.  Then any function that wants to log can simply have an implicit parameter of the right type and import the definition.  But for testing purposes, you can specify a logging service that holds the logs, which can then be queries by the tests."
   ]
  },
  {
   "cell_type": "markdown",
   "metadata": {},
   "source": [
    "The other way to do this is to pass these services down the entire call path as needed.  But that gets kind of tiring.  With implicits, all you need is the import."
   ]
  },
  {
   "cell_type": "markdown",
   "metadata": {},
   "source": [
    "### ➤ * Implicit Type Conversion *"
   ]
  },
  {
   "cell_type": "markdown",
   "metadata": {},
   "source": [
    "In your code, if some type B is required, but you have a type A, the compiler will look for a single implicit function in scope that takes an A and returns a B.  Note, any implicit functions within the companion object of either the source or destination type are automatically in scope."
   ]
  },
  {
   "cell_type": "code",
   "execution_count": null,
   "metadata": {},
   "outputs": [],
   "source": [
    "object ITCExample1 {\n",
    "  implicit def convert5to4(x: ITCExample2): ITCExample1 = {\n",
    "    val Array(firstName, lastName) = x.fullName.split(\" \")\n",
    "    ITCExample1(firstName, lastName)\n",
    "  }\n",
    "    \n",
    "  implicit def convert(x: ITCExample1): ITCExample2 = {\n",
    "    val fullName = List(x.firstName, x.lastName).mkString(\" \")\n",
    "    ITCExample2(fullName)\n",
    "  }\n",
    "}\n",
    "\n",
    "case class ITCExample1(firstName: String, lastName: String)\n",
    "\n",
    "case class ITCExample2(fullName: String)"
   ]
  },
  {
   "cell_type": "code",
   "execution_count": null,
   "metadata": {},
   "outputs": [],
   "source": [
    "val a: ITCExample1 = ITCExample1(\"Bob\", \"Smith\")\n",
    "val b: ITCExample2 = a\n",
    "val c: ITCExample1 = b"
   ]
  },
  {
   "cell_type": "markdown",
   "metadata": {},
   "source": [
    "Several types have implicit conversions to other types defined in their companion object.  For example the `Int` type has an implicit conversion to a `Double` __[here](https://github.com/scala/scala/blob/v2.12.8/src/library/scala/Int.scala#L482)__.  That allows the developer to use an `Int` anywhere a `Double` is required without any explicit transform.  The designers felt this automatic conversion was okay, and useful, since no information is lost. Note there is no implicit conversion from a `Double` to an `Int`, as this would effectively lose information.  It is up to the developer to explicitly chose how they want to do that transform."
   ]
  },
  {
   "cell_type": "code",
   "execution_count": null,
   "metadata": {},
   "outputs": [],
   "source": [
    "val d: Int = 123\n",
    "val e: Double = d"
   ]
  },
  {
   "cell_type": "markdown",
   "metadata": {},
   "source": [
    "### ➤ * Implicit Methods *"
   ]
  },
  {
   "cell_type": "markdown",
   "metadata": {},
   "source": [
    "Implicit methods are very similar in concept to implicit type conversion.  Consider calling the method `distinct` on a `String`."
   ]
  },
  {
   "cell_type": "code",
   "execution_count": null,
   "metadata": {},
   "outputs": [],
   "source": [
    "\"aaabbbccc\".distinct"
   ]
  },
  {
   "cell_type": "markdown",
   "metadata": {},
   "source": [
    "In Scala, the `String` type is an alias for the Java `String`.  And the `String` class in Java does not have a `distinct` method as a member.  So what is going on here?  Where did this method come from?  It came from the `StringOps` class in Scala."
   ]
  },
  {
   "cell_type": "markdown",
   "metadata": {},
   "source": [
    "If you have a variable of type A and try to call a method that is not a member of the class, it will try to find a single implicit function within scope that converts the variable from type A to any type B which does have the method as a member.  If there are zero or more than one type conversion functions within scope which meet this criteria, the code will not compile."
   ]
  },
  {
   "cell_type": "markdown",
   "metadata": {},
   "source": [
    "Within the `Predef` object, which is automatically imported into every Scala file, there is an implicit function called `augmentString` __[here](https://github.com/scala/scala/blob/v2.12.8/src/library/scala/Predef.scala#L374)__, which converts a `String` to a `StringOps`.  Thus the `String` is automatically converted into a `StringOps` because it has the `distinct` method as a member."
   ]
  },
  {
   "cell_type": "code",
   "execution_count": 1,
   "metadata": {},
   "outputs": [
    {
     "data": {
      "text/plain": [
       "defined \u001b[32mclass\u001b[39m \u001b[36mMyStringOps1\u001b[39m\n",
       "defined \u001b[32mfunction\u001b[39m \u001b[36mconvert1\u001b[39m\n",
       "\u001b[36mres0_2\u001b[39m: \u001b[32mString\u001b[39m = \u001b[32m\"hellohellohello\"\u001b[39m"
      ]
     },
     "execution_count": 1,
     "metadata": {},
     "output_type": "execute_result"
    }
   ],
   "source": [
    "case class MyStringOps1(string: String) {\n",
    "  def multiply1(x: Int): String = (1 to x).map(_ => string).mkString(\"\")\n",
    "}\n",
    "\n",
    "implicit def convert1(string: String): MyStringOps1 = MyStringOps1(string)\n",
    "\n",
    "\"hello\".multiply1(3)"
   ]
  },
  {
   "cell_type": "markdown",
   "metadata": {},
   "source": [
    "The class and implicit function can be combined into a single implicit class.  In this form, the class can not be a case class, and must take a single non-implicit parameter.  There can also be no other entities in scope with the same name."
   ]
  },
  {
   "cell_type": "code",
   "execution_count": 2,
   "metadata": {},
   "outputs": [
    {
     "data": {
      "text/plain": [
       "defined \u001b[32mclass\u001b[39m \u001b[36mMyStringOps2\u001b[39m\n",
       "\u001b[36mres1_1\u001b[39m: \u001b[32mString\u001b[39m = \u001b[32m\"hellohellohello\"\u001b[39m"
      ]
     },
     "execution_count": 2,
     "metadata": {},
     "output_type": "execute_result"
    }
   ],
   "source": [
    "implicit class MyStringOps2(string: String) {\n",
    "    def multiply2(x: Int): String = (1 to x).map(_ => string).mkString(\"\")\n",
    "}\n",
    "\n",
    "\"hello\".multiply2(3)"
   ]
  },
  {
   "cell_type": "markdown",
   "metadata": {},
   "source": [
    "This kind of implicit and it's behavior is the foundation required for type classes described next."
   ]
  },
  {
   "cell_type": "markdown",
   "metadata": {},
   "source": [
    "### ➤ * Type Classes *"
   ]
  },
  {
   "cell_type": "markdown",
   "metadata": {},
   "source": [
    "Type classes are an ad-hoc method of adding behaviors to a set of types, without having to change them.  Here is an __[article](https://blog.scalac.io/2017/04/19/typeclasses-in-scala.html)__ describing them in detail for Scala.  The concept came from __[Haskell](http://learnyouahaskell.com/types-and-typeclasses#typeclasses-101)__.  They are also, in turn, the foundation for functional programming libraries such as __[Cats](https://typelevel.org/cats/)__ and __[Scalaz](https://scalaz.github.io/)__."
   ]
  },
  {
   "cell_type": "markdown",
   "metadata": {},
   "source": [
    "The first step is to create a `trait` which defines the methods and type signatures for the desired behaviors."
   ]
  },
  {
   "cell_type": "code",
   "execution_count": null,
   "metadata": {},
   "outputs": [],
   "source": [
    "trait MyTypeClass[A] {\n",
    "  def multiply3(x: Int): A\n",
    "}"
   ]
  },
  {
   "cell_type": "markdown",
   "metadata": {},
   "source": [
    "The next step is to create implicit type conversion functions from each of the type you want to have this set of behaviors to an annonymous implementation of the trait."
   ]
  },
  {
   "cell_type": "code",
   "execution_count": null,
   "metadata": {},
   "outputs": [],
   "source": [
    "implicit def convert2(string: String) = new MyTypeClass[String] {\n",
    "  def multiply3(x: Int): String = (1 to x).map(_ => string).mkString(\"\")\n",
    "}\n",
    "\n",
    "implicit def convert3(int: Int) = new MyTypeClass[Int] {\n",
    "  def multiply3(x: Int): Int = (1 to x).map(_ => int.toString).mkString(\"\").toInt\n",
    "}"
   ]
  },
  {
   "cell_type": "markdown",
   "metadata": {},
   "source": [
    "Then you can simply call any of the trait methods on any of the types belonging to the type class."
   ]
  },
  {
   "cell_type": "code",
   "execution_count": null,
   "metadata": {},
   "outputs": [],
   "source": [
    "\"hello\".multiply3(3)\n",
    "123.multiply3(3)"
   ]
  }
 ],
 "metadata": {
  "kernelspec": {
   "display_name": "Scala",
   "language": "scala",
   "name": "scala"
  },
  "language_info": {
   "codemirror_mode": "text/x-scala",
   "file_extension": ".scala",
   "mimetype": "text/x-scala",
   "name": "scala",
   "nbconvert_exporter": "script",
   "version": "2.12.8"
  }
 },
 "nbformat": 4,
 "nbformat_minor": 2
}
