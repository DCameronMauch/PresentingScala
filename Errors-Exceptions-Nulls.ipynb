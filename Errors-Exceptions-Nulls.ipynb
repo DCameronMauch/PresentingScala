{
 "cells": [
  {
   "cell_type": "markdown",
   "metadata": {},
   "source": [
    "# Errors, Exceptions, and Nulls - The Scala Way"
   ]
  },
  {
   "cell_type": "markdown",
   "metadata": {},
   "source": [
    "Blah blah blah"
   ]
  },
  {
   "cell_type": "markdown",
   "metadata": {},
   "source": [
    "### --- Errors ---"
   ]
  },
  {
   "cell_type": "markdown",
   "metadata": {},
   "source": [
    "In Scala, we usually deal with a method that can return a value or some kind of error using the __[Either](https://www.scala-lang.org/api/2.12.8/scala/util/Either.html)__ monad.  It has a type signature that takes two parameters and looks like `Either[A,B]`.  It is implemented by either a `Left[A]` for the unhappy path, or a `Right[B]` for the happy path."
   ]
  },
  {
   "cell_type": "code",
   "execution_count": 2,
   "metadata": {},
   "outputs": [
    {
     "data": {
      "text/plain": [
       "defined \u001b[32mclass\u001b[39m \u001b[36mError\u001b[39m\n",
       "\u001b[36meither1\u001b[39m: \u001b[32mEither\u001b[39m[\u001b[32mError\u001b[39m, \u001b[32mInt\u001b[39m] = \u001b[33mLeft\u001b[39m(\u001b[33mError\u001b[39m(\u001b[32m\"error\"\u001b[39m))\n",
       "\u001b[36meither2\u001b[39m: \u001b[32mEither\u001b[39m[\u001b[32mError\u001b[39m, \u001b[32mInt\u001b[39m] = \u001b[33mRight\u001b[39m(\u001b[32m123\u001b[39m)"
      ]
     },
     "execution_count": 2,
     "metadata": {},
     "output_type": "execute_result"
    }
   ],
   "source": [
    "case class Error(message: String)\n",
    "\n",
    "val either1: Either[Error, Int] = Left(Error(\"error\"))\n",
    "val either2: Either[Error, Int] = Right(123)"
   ]
  },
  {
   "cell_type": "markdown",
   "metadata": {},
   "source": [
    "Either is right biased, meaning operators like `map` and `flatMap` only operate on a Right.  For example, the type signature for map is `map[C](B => C): Either[A,C]`.  Only the value within a Right will be operated on.  The value within a Left will be unchanged.  Either way, the type signature of the Either has changed."
   ]
  },
  {
   "cell_type": "code",
   "execution_count": 4,
   "metadata": {},
   "outputs": [
    {
     "data": {
      "text/plain": [
       "\u001b[36mres3_0\u001b[39m: \u001b[32mEither\u001b[39m[\u001b[32mError\u001b[39m, \u001b[32mDouble\u001b[39m] = \u001b[33mLeft\u001b[39m(\u001b[33mError\u001b[39m(\u001b[32m\"error\"\u001b[39m))\n",
       "\u001b[36mres3_1\u001b[39m: \u001b[32mEither\u001b[39m[\u001b[32mError\u001b[39m, \u001b[32mDouble\u001b[39m] = \u001b[33mRight\u001b[39m(\u001b[32m123.0\u001b[39m)"
      ]
     },
     "execution_count": 4,
     "metadata": {},
     "output_type": "execute_result"
    }
   ],
   "source": [
    "either1.map(_.toDouble)\n",
    "either2.map(_.toDouble)"
   ]
  },
  {
   "cell_type": "markdown",
   "metadata": {},
   "source": [
    "\n",
    "The compositional beauty comes in when you have a series of functions, each of which can produce an error.  You want to stop on the first error.  Normally this would look like a bunch of nested `if` statements.  With Either, you can call the first function, then flatMap with the second, flatMap with the third, etc.  If any function returns a Left, any flatMaps after will have no impact.  If there are no Lefts, then the final output will be a Right.\n",
    "\n",
    "`val foo: Either[Error, Int] = function1(123).flatMap(function2).flatMap(function3)`"
   ]
  },
  {
   "cell_type": "markdown",
   "metadata": {},
   "source": [
    "### --- Exceptions ---"
   ]
  },
  {
   "cell_type": "markdown",
   "metadata": {},
   "source": [
    "blah blah"
   ]
  },
  {
   "cell_type": "markdown",
   "metadata": {},
   "source": [
    "### --- Nulls ---"
   ]
  },
  {
   "cell_type": "markdown",
   "metadata": {},
   "source": [
    "In Scala"
   ]
  },
  {
   "cell_type": "code",
   "execution_count": 4,
   "metadata": {},
   "outputs": [
    {
     "data": {
      "text/plain": [
       "\u001b[36ma\u001b[39m: \u001b[32mOption\u001b[39m[\u001b[32mString\u001b[39m] = \u001b[33mSome\u001b[39m(\u001b[32m\"foobar\"\u001b[39m)\n",
       "\u001b[36mb\u001b[39m: \u001b[32mOption\u001b[39m[\u001b[32mString\u001b[39m] = \u001b[32mNone\u001b[39m\n",
       "\u001b[36mc\u001b[39m: \u001b[32mOption\u001b[39m[\u001b[32mInt\u001b[39m] = \u001b[33mSome\u001b[39m(\u001b[32m6\u001b[39m)\n",
       "\u001b[36md\u001b[39m: \u001b[32mOption\u001b[39m[\u001b[32mInt\u001b[39m] = \u001b[32mNone\u001b[39m"
      ]
     },
     "execution_count": 4,
     "metadata": {},
     "output_type": "execute_result"
    }
   ],
   "source": [
    "val a: Option[String] = Some(\"foobar\")\n",
    "val b: Option[String] = None\n",
    "val c = a.map(_.size)\n",
    "val d = b.map(_.size)"
   ]
  }
 ],
 "metadata": {
  "kernelspec": {
   "display_name": "Scala",
   "language": "scala",
   "name": "scala"
  },
  "language_info": {
   "codemirror_mode": "text/x-scala",
   "file_extension": ".scala",
   "mimetype": "text/x-scala",
   "name": "scala",
   "nbconvert_exporter": "script",
   "version": "2.12.8"
  }
 },
 "nbformat": 4,
 "nbformat_minor": 2
}
