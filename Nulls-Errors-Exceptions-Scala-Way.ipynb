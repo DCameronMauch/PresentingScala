{
 "cells": [
  {
   "cell_type": "markdown",
   "metadata": {},
   "source": [
    "# Nulls, Errors, and Exceptions - The Scala Way"
   ]
  },
  {
   "cell_type": "markdown",
   "metadata": {},
   "source": [
    "These three concepts are amongst the most difficult to deal with in any Java program.  They are the source of many kinds of bugs.  But Scala has some tools to help deal with them, reduce boilerplate code, increasing overall quality, and reduce those bugs related to them."
   ]
  },
  {
   "cell_type": "markdown",
   "metadata": {},
   "source": [
    "### ➤ * Nulls *"
   ]
  },
  {
   "cell_type": "markdown",
   "metadata": {},
   "source": [
    "If you have any function, can you tell from it's type signature if it might return a null?  Do you need to write code and tests to check for a null return value?  They are probably the single biggest source of runtime exceptions, because developers do not realize a function might return a null or forget to check for it."
   ]
  },
  {
   "cell_type": "markdown",
   "metadata": {},
   "source": [
    "In Scala, we try to avoid nulls completely.  We have an alternative, the __[Option](https://www.scala-lang.org/api/2.12.8/scala/Option.html)__ type (side note - Java 8 borrowed this concept for it's `Optional` type).  Of the three types we will be discussing, this one is the simplest.  It has a type signature that takes one parameter and looks like `Option[A]`.  A null is represented by a `None[A]`, which holds zero elements of type A.  Any non-null value is represented by a `Some[A]`, which holds one element of type A, namely the value."
   ]
  },
  {
   "cell_type": "code",
   "execution_count": 1,
   "metadata": {},
   "outputs": [
    {
     "data": {
      "text/plain": [
       "\u001b[36moption1\u001b[39m: \u001b[32mOption\u001b[39m[\u001b[32mString\u001b[39m] = \u001b[32mNone\u001b[39m\n",
       "\u001b[36moption2\u001b[39m: \u001b[32mOption\u001b[39m[\u001b[32mString\u001b[39m] = \u001b[33mSome\u001b[39m(\u001b[32m\"foobar\"\u001b[39m)"
      ]
     },
     "execution_count": 1,
     "metadata": {},
     "output_type": "execute_result"
    }
   ],
   "source": [
    "val option1: Option[String] = None\n",
    "val option2: Option[String] = Some(\"foobar\")"
   ]
  },
  {
   "cell_type": "markdown",
   "metadata": {},
   "source": [
    "An option can also be constructed by in the following way, based on a variable that may or may not be null.  This is useful for wrapping functions which are known to possibly return a null value."
   ]
  },
  {
   "cell_type": "code",
   "execution_count": 2,
   "metadata": {},
   "outputs": [
    {
     "data": {
      "text/plain": [
       "\u001b[36moptionVar1\u001b[39m: \u001b[32mString\u001b[39m = \u001b[32mnull\u001b[39m\n",
       "\u001b[36moptionVar2\u001b[39m: \u001b[32mString\u001b[39m = \u001b[32m\"foobar\"\u001b[39m\n",
       "\u001b[36mres1_2\u001b[39m: \u001b[32mOption\u001b[39m[\u001b[32mString\u001b[39m] = \u001b[32mNone\u001b[39m\n",
       "\u001b[36mres1_3\u001b[39m: \u001b[32mOption\u001b[39m[\u001b[32mString\u001b[39m] = \u001b[33mSome\u001b[39m(\u001b[32m\"foobar\"\u001b[39m)"
      ]
     },
     "execution_count": 2,
     "metadata": {},
     "output_type": "execute_result"
    }
   ],
   "source": [
    "val optionVar1: String = null\n",
    "val optionVar2: String = \"foobar\"\n",
    "\n",
    "Option(optionVar1)\n",
    "Option(optionVar2)"
   ]
  },
  {
   "cell_type": "markdown",
   "metadata": {},
   "source": [
    "You can check to see if an `Option` is a `None` or a `Some` with the `isEmpty` or `isDefined` method."
   ]
  },
  {
   "cell_type": "code",
   "execution_count": 3,
   "metadata": {
    "scrolled": true
   },
   "outputs": [
    {
     "data": {
      "text/plain": [
       "\u001b[36mres2_0\u001b[39m: \u001b[32mBoolean\u001b[39m = true\n",
       "\u001b[36mres2_1\u001b[39m: \u001b[32mBoolean\u001b[39m = false\n",
       "\u001b[36mres2_2\u001b[39m: \u001b[32mBoolean\u001b[39m = false\n",
       "\u001b[36mres2_3\u001b[39m: \u001b[32mBoolean\u001b[39m = true"
      ]
     },
     "execution_count": 3,
     "metadata": {},
     "output_type": "execute_result"
    }
   ],
   "source": [
    "option1.isEmpty\n",
    "option2.isEmpty\n",
    "option1.isDefined\n",
    "option2.isDefined"
   ]
  },
  {
   "cell_type": "markdown",
   "metadata": {},
   "source": [
    "That in turn can be used with `if` conditional to take action based on the kind of `Option`.  You can use the `get` method to extract the value from a `Some`, but will raise an exception for a `None`.  "
   ]
  },
  {
   "cell_type": "code",
   "execution_count": 4,
   "metadata": {},
   "outputs": [
    {
     "data": {
      "text/plain": [
       "defined \u001b[32mfunction\u001b[39m \u001b[36mprinter1\u001b[39m\n",
       "\u001b[36mres3_1\u001b[39m: \u001b[32mString\u001b[39m = \u001b[32m\"no value present\"\u001b[39m\n",
       "\u001b[36mres3_2\u001b[39m: \u001b[32mString\u001b[39m = \u001b[32m\"value = foobar\"\u001b[39m"
      ]
     },
     "execution_count": 4,
     "metadata": {},
     "output_type": "execute_result"
    }
   ],
   "source": [
    "def printer1(option: Option[String]): String =\n",
    "  if (option.isDefined) \"value = %s\".format(option.get) else \"no value present\"\n",
    "\n",
    "printer1(option1)\n",
    "printer1(option2)"
   ]
  },
  {
   "cell_type": "markdown",
   "metadata": {},
   "source": [
    "A less idiomatic way would be to use the `match` and `case` statements.  This way is though probably more clear to developers coming from Java.  It does use pattern matching and deconstruction."
   ]
  },
  {
   "cell_type": "code",
   "execution_count": 5,
   "metadata": {},
   "outputs": [
    {
     "data": {
      "text/plain": [
       "defined \u001b[32mfunction\u001b[39m \u001b[36mprinter2\u001b[39m\n",
       "\u001b[36mres4_1\u001b[39m: \u001b[32mString\u001b[39m = \u001b[32m\"no value present\"\u001b[39m\n",
       "\u001b[36mres4_2\u001b[39m: \u001b[32mString\u001b[39m = \u001b[32m\"value = foobar\"\u001b[39m"
      ]
     },
     "execution_count": 5,
     "metadata": {},
     "output_type": "execute_result"
    }
   ],
   "source": [
    "def printer2(option: Option[String]): String =\n",
    "  option match {\n",
    "    case Some(v) => \"value = %s\".format(v)\n",
    "    case None => \"no value present\"\n",
    "  }\n",
    "\n",
    "printer2(option1)\n",
    "printer2(option2)"
   ]
  },
  {
   "cell_type": "markdown",
   "metadata": {},
   "source": [
    "If you have one or more transformations that always return a value, you can chain together calls to the `map` method.  It takes a function with the type signature `A => B`.  Note that in the case of the `None[A]`, the result is a `None[B]`.  The transformation is applied to any value held within the `Option`."
   ]
  },
  {
   "cell_type": "code",
   "execution_count": 6,
   "metadata": {},
   "outputs": [
    {
     "data": {
      "text/plain": [
       "defined \u001b[32mfunction\u001b[39m \u001b[36mvalueFunction1\u001b[39m\n",
       "\u001b[36mres5_1\u001b[39m: \u001b[32mOption\u001b[39m[\u001b[32mInt\u001b[39m] = \u001b[32mNone\u001b[39m\n",
       "\u001b[36mres5_2\u001b[39m: \u001b[32mOption\u001b[39m[\u001b[32mInt\u001b[39m] = \u001b[33mSome\u001b[39m(\u001b[32m6\u001b[39m)"
      ]
     },
     "execution_count": 6,
     "metadata": {},
     "output_type": "execute_result"
    }
   ],
   "source": [
    "def valueFunction1(x: String): Int = x.size\n",
    "\n",
    "option1.map(valueFunction1)\n",
    "option2.map(valueFunction1)"
   ]
  },
  {
   "cell_type": "markdown",
   "metadata": {},
   "source": [
    "A better alternative to `get` is the `getOrElse` method, which extracts the value from a `Some`, or returns a specified default value for a `None`.  Note that the type of the argument must match the inner type of the `Option`."
   ]
  },
  {
   "cell_type": "markdown",
   "metadata": {},
   "source": [
    "We can now combine the `map` and the `getOrElse` to create the most functional form of the printer."
   ]
  },
  {
   "cell_type": "code",
   "execution_count": 7,
   "metadata": {},
   "outputs": [
    {
     "data": {
      "text/plain": [
       "defined \u001b[32mfunction\u001b[39m \u001b[36mprinter3\u001b[39m\n",
       "\u001b[36mres6_1\u001b[39m: \u001b[32mString\u001b[39m = \u001b[32m\"no value present\"\u001b[39m\n",
       "\u001b[36mres6_2\u001b[39m: \u001b[32mString\u001b[39m = \u001b[32m\"value = foobar\"\u001b[39m"
      ]
     },
     "execution_count": 7,
     "metadata": {},
     "output_type": "execute_result"
    }
   ],
   "source": [
    "def printer3(option: Option[String]): String =\n",
    "  option.map(\"value = %s\".format(_)).getOrElse(\"no value present\")\n",
    "\n",
    "printer3(option1)\n",
    "printer3(option2)"
   ]
  },
  {
   "cell_type": "markdown",
   "metadata": {},
   "source": [
    "If you have one or more transformations that each return an Option, you can chain together calls to the `flatMap` method.  It takes a function with the type signature `A => Option[B]`.  The \"map\" part returns an `Option[Option[B]]`, and the \"flat\" part takes that and returns just a `Option[B]`.  It is identical as calling the `map` method followed by the `flatten` method."
   ]
  },
  {
   "cell_type": "code",
   "execution_count": 8,
   "metadata": {},
   "outputs": [
    {
     "data": {
      "text/plain": [
       "defined \u001b[32mfunction\u001b[39m \u001b[36moptionFunction1Pass\u001b[39m\n",
       "defined \u001b[32mfunction\u001b[39m \u001b[36moptionFunction2Pass\u001b[39m\n",
       "defined \u001b[32mfunction\u001b[39m \u001b[36moptionFunction3Pass\u001b[39m\n",
       "defined \u001b[32mfunction\u001b[39m \u001b[36moptionFunction3Fail\u001b[39m\n",
       "defined \u001b[32mfunction\u001b[39m \u001b[36moptionFunction4Pass\u001b[39m"
      ]
     },
     "execution_count": 8,
     "metadata": {},
     "output_type": "execute_result"
    }
   ],
   "source": [
    "def optionFunction1Pass(x: String): Option[Int] = Some(x.size)\n",
    "def optionFunction2Pass(x: Int): Option[Int] = Some(x * 3)\n",
    "def optionFunction3Pass(x: Int): Option[Double] = Some(x.toDouble)\n",
    "def optionFunction3Fail(x: Int): Option[Double] = None\n",
    "def optionFunction4Pass(x: Double): Option[String] = Some(x.toString)"
   ]
  },
  {
   "cell_type": "markdown",
   "metadata": {},
   "source": [
    "If all functions return a `Some`, then the final result will be a `Some`."
   ]
  },
  {
   "cell_type": "code",
   "execution_count": 9,
   "metadata": {},
   "outputs": [
    {
     "data": {
      "text/plain": [
       "\u001b[36mres8\u001b[39m: \u001b[32mOption\u001b[39m[\u001b[32mString\u001b[39m] = \u001b[33mSome\u001b[39m(\u001b[32m\"18.0\"\u001b[39m)"
      ]
     },
     "execution_count": 9,
     "metadata": {},
     "output_type": "execute_result"
    }
   ],
   "source": [
    "option2\n",
    "  .flatMap(optionFunction1Pass)\n",
    "  .flatMap(optionFunction2Pass)\n",
    "  .flatMap(optionFunction3Pass)\n",
    "  .flatMap(optionFunction4Pass)"
   ]
  },
  {
   "cell_type": "markdown",
   "metadata": {},
   "source": [
    "If any function in the chain returns a `None`, all the subsequent `flatMap` calls will also return a `None`, but the type will change with each transformation."
   ]
  },
  {
   "cell_type": "code",
   "execution_count": 10,
   "metadata": {},
   "outputs": [
    {
     "data": {
      "text/plain": [
       "\u001b[36mres9\u001b[39m: \u001b[32mOption\u001b[39m[\u001b[32mString\u001b[39m] = \u001b[32mNone\u001b[39m"
      ]
     },
     "execution_count": 10,
     "metadata": {},
     "output_type": "execute_result"
    }
   ],
   "source": [
    "option2\n",
    "  .flatMap(optionFunction1Pass)\n",
    "  .flatMap(optionFunction2Pass)\n",
    "  .flatMap(optionFunction3Fail)\n",
    "  .flatMap(optionFunction4Pass)"
   ]
  },
  {
   "cell_type": "markdown",
   "metadata": {},
   "source": [
    "This is the power of functional programming - composition.  But here we are composing together functions which may (only conceptually now) return nulls.  Without `Option`, for N transformations, you would have to write an N-level deep nested `if` structure, checking for nulls at each level.  This is not readable or easily maintained code."
   ]
  },
  {
   "cell_type": "markdown",
   "metadata": {},
   "source": [
    "Of course, `map` and `flatMap` can be mixed together in a sequence of calls where some transformations return a value and some return an `Option`."
   ]
  },
  {
   "cell_type": "markdown",
   "metadata": {},
   "source": [
    "There are a number of other useful methods on `Option`, like `contains`, `exists`, `filter`, etc.  Please refer to the documentation linked above."
   ]
  },
  {
   "cell_type": "code",
   "execution_count": 11,
   "metadata": {},
   "outputs": [
    {
     "data": {
      "text/plain": [
       "\u001b[36mres10_0\u001b[39m: \u001b[32mBoolean\u001b[39m = false\n",
       "\u001b[36mres10_1\u001b[39m: \u001b[32mBoolean\u001b[39m = false\n",
       "\u001b[36mres10_2\u001b[39m: \u001b[32mBoolean\u001b[39m = true"
      ]
     },
     "execution_count": 11,
     "metadata": {},
     "output_type": "execute_result"
    }
   ],
   "source": [
    "option1.contains(\"blah\")\n",
    "option2.contains(\"blah\")\n",
    "option2.contains(\"foobar\")"
   ]
  },
  {
   "cell_type": "code",
   "execution_count": 12,
   "metadata": {},
   "outputs": [
    {
     "data": {
      "text/plain": [
       "\u001b[36mres11_0\u001b[39m: \u001b[32mBoolean\u001b[39m = false\n",
       "\u001b[36mres11_1\u001b[39m: \u001b[32mBoolean\u001b[39m = false\n",
       "\u001b[36mres11_2\u001b[39m: \u001b[32mBoolean\u001b[39m = true"
      ]
     },
     "execution_count": 12,
     "metadata": {},
     "output_type": "execute_result"
    }
   ],
   "source": [
    "option1.exists(_.size == 5)\n",
    "option2.exists(_.size == 5)\n",
    "option2.exists(_.size == 6)"
   ]
  },
  {
   "cell_type": "code",
   "execution_count": 13,
   "metadata": {},
   "outputs": [
    {
     "data": {
      "text/plain": [
       "\u001b[36mres12_0\u001b[39m: \u001b[32mOption\u001b[39m[\u001b[32mString\u001b[39m] = \u001b[32mNone\u001b[39m\n",
       "\u001b[36mres12_1\u001b[39m: \u001b[32mOption\u001b[39m[\u001b[32mString\u001b[39m] = \u001b[32mNone\u001b[39m\n",
       "\u001b[36mres12_2\u001b[39m: \u001b[32mOption\u001b[39m[\u001b[32mString\u001b[39m] = \u001b[33mSome\u001b[39m(\u001b[32m\"foobar\"\u001b[39m)"
      ]
     },
     "execution_count": 13,
     "metadata": {},
     "output_type": "execute_result"
    }
   ],
   "source": [
    "option1.filter(_ == \"blah\")\n",
    "option2.filter(_ == \"blah\")\n",
    "option2.filter(_ == \"foobar\")"
   ]
  },
  {
   "cell_type": "markdown",
   "metadata": {},
   "source": [
    "It can also be converted to an `Either`, as a `Left` or `Right` - discussed further below."
   ]
  },
  {
   "cell_type": "code",
   "execution_count": 14,
   "metadata": {},
   "outputs": [
    {
     "data": {
      "text/plain": [
       "defined \u001b[32mclass\u001b[39m \u001b[36mThing\u001b[39m\n",
       "\u001b[36mres13_1\u001b[39m: \u001b[32mEither\u001b[39m[\u001b[32mString\u001b[39m, \u001b[32mThing\u001b[39m] = \u001b[33mRight\u001b[39m(\u001b[33mThing\u001b[39m(\u001b[32m1\u001b[39m))\n",
       "\u001b[36mres13_2\u001b[39m: \u001b[32mEither\u001b[39m[\u001b[32mString\u001b[39m, \u001b[32mThing\u001b[39m] = \u001b[33mLeft\u001b[39m(\u001b[32m\"foobar\"\u001b[39m)\n",
       "\u001b[36mres13_3\u001b[39m: \u001b[32mEither\u001b[39m[\u001b[32mThing\u001b[39m, \u001b[32mString\u001b[39m] = \u001b[33mLeft\u001b[39m(\u001b[33mThing\u001b[39m(\u001b[32m1\u001b[39m))\n",
       "\u001b[36mres13_4\u001b[39m: \u001b[32mEither\u001b[39m[\u001b[32mThing\u001b[39m, \u001b[32mString\u001b[39m] = \u001b[33mRight\u001b[39m(\u001b[32m\"foobar\"\u001b[39m)"
      ]
     },
     "execution_count": 14,
     "metadata": {},
     "output_type": "execute_result"
    }
   ],
   "source": [
    "case class Thing(id: Int)\n",
    "\n",
    "option1.toLeft(Thing(1))\n",
    "option2.toLeft(Thing(2))\n",
    "\n",
    "option1.toRight(Thing(1))\n",
    "option2.toRight(Thing(2))"
   ]
  },
  {
   "cell_type": "markdown",
   "metadata": {},
   "source": [
    "In can also be converted to a `Try`, as either a `Failure` or `Success` - discussed further below."
   ]
  },
  {
   "cell_type": "code",
   "execution_count": 15,
   "metadata": {},
   "outputs": [
    {
     "data": {
      "text/plain": [
       "\u001b[32mimport \u001b[39m\u001b[36mscala.util._\n",
       "\n",
       "\u001b[39m\n",
       "\u001b[36mres14_1\u001b[39m: \u001b[32mTry\u001b[39m[\u001b[32mString\u001b[39m] = \u001b[33mFailure\u001b[39m(java.lang.Exception: no data)\n",
       "\u001b[36mres14_2\u001b[39m: \u001b[32mTry\u001b[39m[\u001b[32mString\u001b[39m] = \u001b[33mSuccess\u001b[39m(\u001b[32m\"foobar\"\u001b[39m)"
      ]
     },
     "execution_count": 15,
     "metadata": {},
     "output_type": "execute_result"
    }
   ],
   "source": [
    "import scala.util._\n",
    "\n",
    "option1.map(Success(_)).getOrElse(Failure(new Exception(\"no data\")))\n",
    "option2.map(Success(_)).getOrElse(Failure(new Exception(\"no data\")))"
   ]
  },
  {
   "cell_type": "markdown",
   "metadata": {},
   "source": [
    "### ➤ * Errors *"
   ]
  },
  {
   "cell_type": "markdown",
   "metadata": {},
   "source": [
    "In Scala, we usually deal with a method that can return a value or some kind of error using the __[Either](https://www.scala-lang.org/api/2.12.8/scala/util/Either.html)__ type.  It has a type signature that takes two parameters and looks like `Either[A, B]`.  A failure is represented by a `Left[A]`. A Success is represented by a `Right[B]`."
   ]
  },
  {
   "cell_type": "code",
   "execution_count": 16,
   "metadata": {},
   "outputs": [
    {
     "data": {
      "text/plain": [
       "defined \u001b[32mclass\u001b[39m \u001b[36mError\u001b[39m\n",
       "\u001b[36meither1\u001b[39m: \u001b[32mEither\u001b[39m[\u001b[32mError\u001b[39m, \u001b[32mInt\u001b[39m] = \u001b[33mLeft\u001b[39m(\u001b[33mError\u001b[39m(\u001b[32m\"error\"\u001b[39m))\n",
       "\u001b[36meither2\u001b[39m: \u001b[32mEither\u001b[39m[\u001b[32mError\u001b[39m, \u001b[32mInt\u001b[39m] = \u001b[33mRight\u001b[39m(\u001b[32m123\u001b[39m)"
      ]
     },
     "execution_count": 16,
     "metadata": {},
     "output_type": "execute_result"
    }
   ],
   "source": [
    "case class Error(message: String)\n",
    "\n",
    "val either1: Either[Error, Int] = Left(Error(\"error\"))\n",
    "val either2: Either[Error, Int] = Right(123)"
   ]
  },
  {
   "cell_type": "markdown",
   "metadata": {},
   "source": [
    "Either is right biased, meaning operators like `map` and `flatMap` only operate on a Right.  For example, the type signature for map is `map[C](B => C): Either[A,C]`.  Only the value within a `Right` will be operated on.  The value within a `Left` will be unchanged.  Either way, the type signature of the `Either` will changed."
   ]
  },
  {
   "cell_type": "code",
   "execution_count": 17,
   "metadata": {},
   "outputs": [
    {
     "data": {
      "text/plain": [
       "\u001b[36mres16_0\u001b[39m: \u001b[32mEither\u001b[39m[\u001b[32mError\u001b[39m, \u001b[32mDouble\u001b[39m] = \u001b[33mLeft\u001b[39m(\u001b[33mError\u001b[39m(\u001b[32m\"error\"\u001b[39m))\n",
       "\u001b[36mres16_1\u001b[39m: \u001b[32mEither\u001b[39m[\u001b[32mError\u001b[39m, \u001b[32mDouble\u001b[39m] = \u001b[33mRight\u001b[39m(\u001b[32m123.0\u001b[39m)"
      ]
     },
     "execution_count": 17,
     "metadata": {},
     "output_type": "execute_result"
    }
   ],
   "source": [
    "either1.map(_.toDouble)\n",
    "either2.map(_.toDouble)"
   ]
  },
  {
   "cell_type": "markdown",
   "metadata": {},
   "source": [
    "Just like with `Option`, functions which return an `Either` can be chained together using `flatMap`."
   ]
  },
  {
   "cell_type": "code",
   "execution_count": 18,
   "metadata": {},
   "outputs": [
    {
     "data": {
      "text/plain": [
       "defined \u001b[32mfunction\u001b[39m \u001b[36meitherFunc1Pass\u001b[39m\n",
       "defined \u001b[32mfunction\u001b[39m \u001b[36meitherFunc2Pass\u001b[39m\n",
       "defined \u001b[32mfunction\u001b[39m \u001b[36meitherFunc3Pass\u001b[39m\n",
       "defined \u001b[32mfunction\u001b[39m \u001b[36meitherFunc3Fail\u001b[39m\n",
       "defined \u001b[32mfunction\u001b[39m \u001b[36meitherFunc4Pass\u001b[39m"
      ]
     },
     "execution_count": 18,
     "metadata": {},
     "output_type": "execute_result"
    }
   ],
   "source": [
    "def eitherFunc1Pass(x: Int): Either[Error, Int] = Right(x + 321)\n",
    "def eitherFunc2Pass(x: Int): Either[Error, Int] = Right(x * 2)\n",
    "def eitherFunc3Pass(x: Int): Either[Error, Double] = Right(x.toDouble)\n",
    "def eitherFunc3Fail(x: Int): Either[Error, Double] = Left(Error(\"function 3 failed\"))\n",
    "def eitherFunc4Pass(x: Double): Either[Error, String] = Right(x.toString)"
   ]
  },
  {
   "cell_type": "markdown",
   "metadata": {},
   "source": [
    "Here is an example with all `Right`s being returned."
   ]
  },
  {
   "cell_type": "code",
   "execution_count": 19,
   "metadata": {},
   "outputs": [
    {
     "data": {
      "text/plain": [
       "\u001b[36mres18\u001b[39m: \u001b[32mEither\u001b[39m[\u001b[32mError\u001b[39m, \u001b[32mString\u001b[39m] = \u001b[33mRight\u001b[39m(\u001b[32m\"888.0\"\u001b[39m)"
      ]
     },
     "execution_count": 19,
     "metadata": {},
     "output_type": "execute_result"
    }
   ],
   "source": [
    "either2\n",
    "  .flatMap(eitherFunc1Pass)\n",
    "  .flatMap(eitherFunc2Pass)\n",
    "  .flatMap(eitherFunc3Pass)\n",
    "  .flatMap(eitherFunc4Pass)"
   ]
  },
  {
   "cell_type": "markdown",
   "metadata": {},
   "source": [
    "Here is an example where one function returns a `Left`, as does all subsequent transformations."
   ]
  },
  {
   "cell_type": "code",
   "execution_count": 20,
   "metadata": {},
   "outputs": [
    {
     "data": {
      "text/plain": [
       "\u001b[36mres19\u001b[39m: \u001b[32mEither\u001b[39m[\u001b[32mError\u001b[39m, \u001b[32mString\u001b[39m] = \u001b[33mLeft\u001b[39m(\u001b[33mError\u001b[39m(\u001b[32m\"function 3 failed\"\u001b[39m))"
      ]
     },
     "execution_count": 20,
     "metadata": {},
     "output_type": "execute_result"
    }
   ],
   "source": [
    "either2\n",
    "  .flatMap(eitherFunc1Pass)\n",
    "  .flatMap(eitherFunc2Pass)\n",
    "  .flatMap(eitherFunc3Fail)\n",
    "  .flatMap(eitherFunc4Pass)"
   ]
  },
  {
   "cell_type": "markdown",
   "metadata": {},
   "source": [
    "There are the `boolean` methods `contains` and `exists`, which may be useful."
   ]
  },
  {
   "cell_type": "code",
   "execution_count": 21,
   "metadata": {},
   "outputs": [
    {
     "data": {
      "text/plain": [
       "\u001b[36mres20_0\u001b[39m: \u001b[32mBoolean\u001b[39m = false\n",
       "\u001b[36mres20_1\u001b[39m: \u001b[32mBoolean\u001b[39m = true\n",
       "\u001b[36mres20_2\u001b[39m: \u001b[32mBoolean\u001b[39m = false"
      ]
     },
     "execution_count": 21,
     "metadata": {},
     "output_type": "execute_result"
    }
   ],
   "source": [
    "either1.contains(123)\n",
    "either2.contains(123)\n",
    "either2.contains(456)"
   ]
  },
  {
   "cell_type": "code",
   "execution_count": 22,
   "metadata": {},
   "outputs": [
    {
     "data": {
      "text/plain": [
       "\u001b[36mres21_0\u001b[39m: \u001b[32mBoolean\u001b[39m = false\n",
       "\u001b[36mres21_1\u001b[39m: \u001b[32mBoolean\u001b[39m = true\n",
       "\u001b[36mres21_2\u001b[39m: \u001b[32mBoolean\u001b[39m = false"
      ]
     },
     "execution_count": 22,
     "metadata": {},
     "output_type": "execute_result"
    }
   ],
   "source": [
    "either1.exists(_ > 111)\n",
    "either2.exists(_ > 111)\n",
    "either2.exists(_ > 222)"
   ]
  },
  {
   "cell_type": "markdown",
   "metadata": {},
   "source": [
    "An `Either[A, B]` can be converted to an `Option[B]`, with a `Left[A]` becoming a `None[B]`, and a `Right[B]` becoming a `Some[B]`."
   ]
  },
  {
   "cell_type": "code",
   "execution_count": 23,
   "metadata": {},
   "outputs": [
    {
     "data": {
      "text/plain": [
       "\u001b[36mres22_0\u001b[39m: \u001b[32mOption\u001b[39m[\u001b[32mInt\u001b[39m] = \u001b[32mNone\u001b[39m\n",
       "\u001b[36mres22_1\u001b[39m: \u001b[32mOption\u001b[39m[\u001b[32mInt\u001b[39m] = \u001b[33mSome\u001b[39m(\u001b[32m123\u001b[39m)"
      ]
     },
     "execution_count": 23,
     "metadata": {},
     "output_type": "execute_result"
    }
   ],
   "source": [
    "either1.toOption\n",
    "either2.toOption"
   ]
  },
  {
   "cell_type": "markdown",
   "metadata": {},
   "source": [
    "### ➤ * Exceptions *"
   ]
  },
  {
   "cell_type": "markdown",
   "metadata": {},
   "source": [
    "For the situation where a function might throw an exception, we have the `Try` type, which operates very similarly to the `Either` type.  It takes a single type parameter and has the type signature of `Try[A]`. failure is represented by a `Failure`, which actually holds an exception of type `Throwable`.  A success is represented by a `Success[A]` and holds the returned value."
   ]
  },
  {
   "cell_type": "code",
   "execution_count": 24,
   "metadata": {},
   "outputs": [
    {
     "data": {
      "text/plain": [
       "\u001b[36mtry1\u001b[39m: \u001b[32mTry\u001b[39m[\u001b[32mInt\u001b[39m] = \u001b[33mFailure\u001b[39m(java.lang.ArithmeticException: / by zero)\n",
       "\u001b[36mtry2\u001b[39m: \u001b[32mTry\u001b[39m[\u001b[32mInt\u001b[39m] = \u001b[33mSuccess\u001b[39m(\u001b[32m3\u001b[39m)"
      ]
     },
     "execution_count": 24,
     "metadata": {},
     "output_type": "execute_result"
    }
   ],
   "source": [
    "val try1 = Try(3 / 0)\n",
    "val try2 = Try(3 / 1)"
   ]
  },
  {
   "cell_type": "markdown",
   "metadata": {},
   "source": [
    "There are `boolean` methods to check the type `isFailure` and `isSuccess`."
   ]
  },
  {
   "cell_type": "code",
   "execution_count": 25,
   "metadata": {},
   "outputs": [
    {
     "data": {
      "text/plain": [
       "\u001b[36mres24_0\u001b[39m: \u001b[32mBoolean\u001b[39m = true\n",
       "\u001b[36mres24_1\u001b[39m: \u001b[32mBoolean\u001b[39m = false\n",
       "\u001b[36mres24_2\u001b[39m: \u001b[32mBoolean\u001b[39m = false\n",
       "\u001b[36mres24_3\u001b[39m: \u001b[32mBoolean\u001b[39m = true"
      ]
     },
     "execution_count": 25,
     "metadata": {},
     "output_type": "execute_result"
    }
   ],
   "source": [
    "try1.isFailure\n",
    "try2.isFailure\n",
    "try1.isSuccess\n",
    "try2.isSuccess"
   ]
  },
  {
   "cell_type": "markdown",
   "metadata": {},
   "source": [
    "The same concepts apply here.  A `map` method operates on the value within a `Success`, and only changes the inner type of a `Failure`."
   ]
  },
  {
   "cell_type": "code",
   "execution_count": 26,
   "metadata": {},
   "outputs": [
    {
     "data": {
      "text/plain": [
       "\u001b[36mres25_0\u001b[39m: \u001b[32mTry\u001b[39m[\u001b[32mString\u001b[39m] = \u001b[33mFailure\u001b[39m(java.lang.ArithmeticException: / by zero)\n",
       "\u001b[36mres25_1\u001b[39m: \u001b[32mTry\u001b[39m[\u001b[32mString\u001b[39m] = \u001b[33mSuccess\u001b[39m(\u001b[32m\"3\"\u001b[39m)"
      ]
     },
     "execution_count": 26,
     "metadata": {},
     "output_type": "execute_result"
    }
   ],
   "source": [
    "try1.map(_.toString)\n",
    "try2.map(_.toString)"
   ]
  },
  {
   "cell_type": "markdown",
   "metadata": {},
   "source": [
    "You can use a `getOrElse`, just like with `Option`, to return some default value in the case of a `Failure`."
   ]
  },
  {
   "cell_type": "code",
   "execution_count": 27,
   "metadata": {},
   "outputs": [
    {
     "data": {
      "text/plain": [
       "\u001b[36mres26_0\u001b[39m: \u001b[32mString\u001b[39m = \u001b[32m\"0\"\u001b[39m\n",
       "\u001b[36mres26_1\u001b[39m: \u001b[32mString\u001b[39m = \u001b[32m\"3\"\u001b[39m"
      ]
     },
     "execution_count": 27,
     "metadata": {},
     "output_type": "execute_result"
    }
   ],
   "source": [
    "try1.map(_.toString).getOrElse(\"0\")\n",
    "try2.map(_.toString).getOrElse(\"0\")"
   ]
  },
  {
   "cell_type": "markdown",
   "metadata": {},
   "source": [
    "A `Try[A]` can be converted to an `Option[A]`, with any `Failure` becoming a `None[A]`."
   ]
  },
  {
   "cell_type": "code",
   "execution_count": 28,
   "metadata": {},
   "outputs": [
    {
     "data": {
      "text/plain": [
       "\u001b[36mres27_0\u001b[39m: \u001b[32mOption\u001b[39m[\u001b[32mInt\u001b[39m] = \u001b[32mNone\u001b[39m\n",
       "\u001b[36mres27_1\u001b[39m: \u001b[32mOption\u001b[39m[\u001b[32mInt\u001b[39m] = \u001b[33mSome\u001b[39m(\u001b[32m3\u001b[39m)"
      ]
     },
     "execution_count": 28,
     "metadata": {},
     "output_type": "execute_result"
    }
   ],
   "source": [
    "try1.toOption\n",
    "try2.toOption"
   ]
  },
  {
   "cell_type": "markdown",
   "metadata": {},
   "source": [
    "A `Try[A]` can be converted to an `Either[Throwable, A]`, with any `Failure` becoming a `Left[Throwable]`."
   ]
  },
  {
   "cell_type": "code",
   "execution_count": 29,
   "metadata": {},
   "outputs": [
    {
     "data": {
      "text/plain": [
       "\u001b[36mres28_0\u001b[39m: \u001b[32mEither\u001b[39m[\u001b[32mThrowable\u001b[39m, \u001b[32mInt\u001b[39m] = \u001b[33mLeft\u001b[39m(java.lang.ArithmeticException: / by zero)\n",
       "\u001b[36mres28_1\u001b[39m: \u001b[32mEither\u001b[39m[\u001b[32mThrowable\u001b[39m, \u001b[32mInt\u001b[39m] = \u001b[33mRight\u001b[39m(\u001b[32m3\u001b[39m)"
      ]
     },
     "execution_count": 29,
     "metadata": {},
     "output_type": "execute_result"
    }
   ],
   "source": [
    "try1.toEither\n",
    "try2.toEither"
   ]
  }
 ],
 "metadata": {
  "kernelspec": {
   "display_name": "Scala",
   "language": "scala",
   "name": "scala"
  },
  "language_info": {
   "codemirror_mode": "text/x-scala",
   "file_extension": ".scala",
   "mimetype": "text/x-scala",
   "name": "scala",
   "nbconvert_exporter": "script",
   "version": "2.12.8"
  }
 },
 "nbformat": 4,
 "nbformat_minor": 2
}
